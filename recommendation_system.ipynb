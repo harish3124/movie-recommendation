{
 "cells": [
  {
   "cell_type": "code",
   "execution_count": 128,
   "id": "b8f4bc43",
   "metadata": {},
   "outputs": [],
   "source": [
    "import pandas as pd\n",
    "import numpy as np"
   ]
  },
  {
   "cell_type": "code",
   "execution_count": 129,
   "id": "56ff80e7",
   "metadata": {
    "scrolled": true
   },
   "outputs": [],
   "source": [
    "credits_df = pd.read_csv(\"tmdb_5000_credits.csv\")\n",
    "movies_df = pd.read_csv(\"tmdb_5000_movies.csv\")"
   ]
  },
  {
   "cell_type": "code",
   "execution_count": 130,
   "id": "6913f7d8",
   "metadata": {},
   "outputs": [],
   "source": [
    "credits_df.columns = ['id','title','cast','crew']\n",
    "movies_df = movies_df.merge(credits_df, on=\"id\")"
   ]
  },
  {
   "cell_type": "code",
   "execution_count": 131,
   "id": "2fdcd1ba",
   "metadata": {},
   "outputs": [],
   "source": [
    "from ast import literal_eval\n",
    "\n",
    "features = [\"cast\", \"crew\", \"keywords\", \"genres\"]\n",
    "\n",
    "for feature in features:\n",
    "    movies_df[feature] = movies_df[feature].apply(literal_eval)"
   ]
  },
  {
   "cell_type": "code",
   "execution_count": 132,
   "id": "870d49d9",
   "metadata": {},
   "outputs": [],
   "source": [
    "def get_director(x):\n",
    "    for i in x:\n",
    "        if i[\"job\"] == \"Director\":\n",
    "            return i[\"name\"]\n",
    "    return np.nan"
   ]
  },
  {
   "cell_type": "code",
   "execution_count": 133,
   "id": "2379ff5c",
   "metadata": {},
   "outputs": [],
   "source": [
    "def get_list(x):\n",
    "    if isinstance(x, list):\n",
    "        names = [i[\"name\"] for i in x]\n",
    "\n",
    "        if len(names) > 3:\n",
    "            names = names[:3]\n",
    "\n",
    "        return names\n",
    "\n",
    "    return []"
   ]
  },
  {
   "cell_type": "code",
   "execution_count": 134,
   "id": "85c3c271",
   "metadata": {},
   "outputs": [],
   "source": [
    "movies_df[\"director\"] = movies_df[\"crew\"].apply(get_director)\n",
    "\n",
    "features = [\"cast\", \"keywords\", \"genres\"]\n",
    "for feature in features:\n",
    "    movies_df[feature] = movies_df[feature].apply(get_list)"
   ]
  },
  {
   "cell_type": "code",
   "execution_count": 135,
   "id": "f824e57a",
   "metadata": {},
   "outputs": [],
   "source": [
    "def clean_data(row):\n",
    "    if isinstance(row, list):\n",
    "        return [str.lower(i.replace(\" \", \"\")) for i in row]\n",
    "    else:\n",
    "        if isinstance(row, str):\n",
    "            return str.lower(row.replace(\" \", \"\"))\n",
    "        else:\n",
    "            return \"\"\n",
    "\n",
    "features = ['cast', 'keywords', 'director', 'genres']\n",
    "for feature in features:\n",
    "    movies_df[feature] = movies_df[feature].apply(clean_data)"
   ]
  },
  {
   "cell_type": "code",
   "execution_count": 136,
   "id": "318a8d08",
   "metadata": {},
   "outputs": [],
   "source": [
    "def create_cast_soup(features):\n",
    "    return ' '.join(features['keywords']) + ' ' + ' '.join(features['cast']) + ' ' + features['director'] + ' ' + ' '.join(features['genres'])\n",
    "\n",
    "def create_genre_soup(features):\n",
    "    return ' '.join(features['genres']) + ' ' + ' '.join(features['keywords'])\n",
    "\n",
    "movies_df[\"cast_soup\"] = movies_df.apply(create_cast_soup, axis=1)\n",
    "movies_df[\"genre_soup\"] = movies_df.apply(create_genre_soup, axis=1)"
   ]
  },
  {
   "cell_type": "code",
   "execution_count": 137,
   "id": "fb0782b1",
   "metadata": {},
   "outputs": [],
   "source": [
    "from sklearn.feature_extraction.text import CountVectorizer\n",
    "from sklearn.metrics.pairwise import cosine_similarity"
   ]
  },
  {
   "cell_type": "code",
   "execution_count": 138,
   "id": "3374fe9f",
   "metadata": {},
   "outputs": [],
   "source": [
    "count_vectorizer = CountVectorizer(stop_words=\"english\")"
   ]
  },
  {
   "cell_type": "code",
   "execution_count": 139,
   "id": "5fa023f2",
   "metadata": {},
   "outputs": [],
   "source": [
    "count_matrix = count_vectorizer.fit_transform(movies_df[\"cast_soup\"])\n",
    "cosine_sim_cast = cosine_similarity(count_matrix, count_matrix)"
   ]
  },
  {
   "cell_type": "code",
   "execution_count": 140,
   "id": "573e5e38",
   "metadata": {},
   "outputs": [],
   "source": [
    "count_matrix = count_vectorizer.fit_transform(movies_df[\"genre_soup\"])\n",
    "cosine_sim_genre = cosine_similarity(count_matrix, count_matrix)"
   ]
  },
  {
   "cell_type": "code",
   "execution_count": 141,
   "id": "2016b761",
   "metadata": {},
   "outputs": [],
   "source": [
    "movies_df = movies_df.reset_index()\n",
    "indices = pd.Series(movies_df.index, index=movies_df['original_title'])"
   ]
  },
  {
   "cell_type": "code",
   "execution_count": 142,
   "id": "e38fb17f",
   "metadata": {},
   "outputs": [],
   "source": [
    "indices = pd.Series(movies_df.index, index=movies_df[\"original_title\"]).drop_duplicates()"
   ]
  },
  {
   "cell_type": "code",
   "execution_count": 143,
   "id": "11c10729",
   "metadata": {},
   "outputs": [],
   "source": [
    "def get_recommendations(title, cosine_sim):\n",
    "    idx = indices[title]\n",
    "    similarity_scores = list(enumerate(cosine_sim[idx]))\n",
    "    similarity_scores= sorted(similarity_scores, key=lambda x: x[1], reverse=True)\n",
    "    similarity_scores= similarity_scores[1:11]\n",
    "    # (a, b) where a is id of movie, b is similarity_scores\n",
    "\n",
    "    movies_indices = [indices[0] for indices in similarity_scores]\n",
    "    movies = movies_df[\"original_title\"].iloc[movies_indices]\n",
    "    return movies"
   ]
  },
  {
   "cell_type": "code",
   "execution_count": 144,
   "id": "f43bb92d",
   "metadata": {},
   "outputs": [
    {
     "name": "stdout",
     "output_type": "stream",
     "text": [
      "172     The Twilight Saga: Breaking Dawn - Part 2\n",
      "612                    The Twilight Saga: Eclipse\n",
      "898                   The Twilight Saga: New Moon\n",
      "80                    Snow White and the Huntsman\n",
      "1132                              Red Riding Hood\n",
      "1958                                  On the Road\n",
      "3043                             End of the Spear\n",
      "410                                 Mirror Mirror\n",
      "583                                      Big Fish\n",
      "777         The Mortal Instruments: City of Bones\n",
      "Name: original_title, dtype: object\n"
     ]
    }
   ],
   "source": [
    "print(get_recommendations(\"Twilight\", cosine_sim_cast))"
   ]
  },
  {
   "cell_type": "code",
   "execution_count": 152,
   "id": "8e05c3dd",
   "metadata": {},
   "outputs": [
    {
     "name": "stdout",
     "output_type": "stream",
     "text": [
      "172     The Twilight Saga: Breaking Dawn - Part 2\n",
      "612                    The Twilight Saga: Eclipse\n",
      "898                   The Twilight Saga: New Moon\n",
      "967                                     Hereafter\n",
      "3043                             End of the Spear\n",
      "80                    Snow White and the Huntsman\n",
      "410                                 Mirror Mirror\n",
      "583                                      Big Fish\n",
      "777         The Mortal Instruments: City of Bones\n",
      "812                                    Pocahontas\n",
      "Name: original_title, dtype: object\n"
     ]
    }
   ],
   "source": [
    "print(get_recommendations(\"Twilight\", cosine_sim_genre))"
   ]
  }
 ],
 "metadata": {
  "kernelspec": {
   "display_name": "Python 3 (ipykernel)",
   "language": "python",
   "name": "python3"
  },
  "language_info": {
   "codemirror_mode": {
    "name": "ipython",
    "version": 3
   },
   "file_extension": ".py",
   "mimetype": "text/x-python",
   "name": "python",
   "nbconvert_exporter": "python",
   "pygments_lexer": "ipython3",
   "version": "3.11.3"
  }
 },
 "nbformat": 4,
 "nbformat_minor": 5
}
